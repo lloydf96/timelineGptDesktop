{
 "cells": [
  {
   "cell_type": "code",
   "execution_count": 5,
   "id": "3975a32a-2aa2-42b7-91bf-b7eb66a92107",
   "metadata": {},
   "outputs": [],
   "source": [
    "import json\n",
    "import os\n",
    "# Opening JSON file\n",
    "f = open('events.json')\n",
    "  \n",
    "# returns JSON object as \n",
    "# a dictionary\n",
    "data = json.load(f)\n"
   ]
  },
  {
   "cell_type": "code",
   "execution_count": 10,
   "id": "4da82912-378a-4a38-b97f-d886742d057b",
   "metadata": {},
   "outputs": [],
   "source": [
    "with open('events.txt', 'w') as file:\n",
    "     file.write(json.dumps(data)) \n"
   ]
  },
  {
   "cell_type": "code",
   "execution_count": 13,
   "id": "55f0bec4-6778-4465-85ea-c051134c4c1a",
   "metadata": {},
   "outputs": [],
   "source": [
    "with open('timeline_display.html','w') as file:\n",
    "    file.truncate()\n",
    "    with open('template_p1.txt') as p1:\n",
    "        file.write(p1.read())\n",
    "    with open('events.txt','r') as p2:\n",
    "        file.write(p2.read())\n",
    "    with open('template_p2.txt','r') as p3:\n",
    "        file.write(p3.read())"
   ]
  },
  {
   "cell_type": "code",
   "execution_count": null,
   "id": "16c392f9-cb40-4136-ab94-3d37f0d9bfde",
   "metadata": {},
   "outputs": [],
   "source": []
  }
 ],
 "metadata": {
  "kernelspec": {
   "display_name": "Python 3 (ipykernel)",
   "language": "python",
   "name": "python3"
  },
  "language_info": {
   "codemirror_mode": {
    "name": "ipython",
    "version": 3
   },
   "file_extension": ".py",
   "mimetype": "text/x-python",
   "name": "python",
   "nbconvert_exporter": "python",
   "pygments_lexer": "ipython3",
   "version": "3.9.16"
  }
 },
 "nbformat": 4,
 "nbformat_minor": 5
}
