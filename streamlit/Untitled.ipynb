{
 "cells": [
  {
   "cell_type": "code",
   "execution_count": 5,
   "id": "3975a32a-2aa2-42b7-91bf-b7eb66a92107",
   "metadata": {},
   "outputs": [],
   "source": [
    "import json\n",
    "import os\n",
    "# Opening JSON file\n",
    "f = open('events.json')\n",
    "  \n",
    "# returns JSON object as \n",
    "# a dictionary\n",
    "data = json.load(f)\n"
   ]
  },
  {
   "cell_type": "code",
   "execution_count": 39,
   "id": "1b274e23-6952-4c4f-b2bd-58c5701c124d",
   "metadata": {},
   "outputs": [],
   "source": [
    "summary = pd.read_pickle(os.path.join(os.getcwd(),'data','summary.pkl'))\n",
    "summary.head(5).to_pickle(os.path.join(os.getcwd(),'data','summary.pkl'))"
   ]
  },
  {
   "cell_type": "code",
   "execution_count": 37,
   "id": "34522fa1-140a-439c-8e39-f4ef21bcf850",
   "metadata": {},
   "outputs": [],
   "source": [
    "import pandas as pd\n",
    "\n",
    "df = pd.read_pickle(os.path.join(os.getcwd(),'data','summary.pkl'))\n",
    "df_dict = dict(zip(*[df.date,df.event]))\n",
    "json_object = json.dumps(df_dict, indent = 4) \n",
    "with open('events.json', 'w') as f:\n",
    "    json.dump(json_object, f)"
   ]
  },
  {
   "cell_type": "code",
   "execution_count": 36,
   "id": "f59ef37d-11db-491f-9fb5-ba80e16d0c60",
   "metadata": {},
   "outputs": [],
   "source": []
  },
  {
   "cell_type": "code",
   "execution_count": 10,
   "id": "4da82912-378a-4a38-b97f-d886742d057b",
   "metadata": {},
   "outputs": [],
   "source": [
    "with open('events.txt', 'w') as file:\n",
    "     file.write(json.dumps(data)) \n"
   ]
  },
  {
   "cell_type": "code",
   "execution_count": 19,
   "id": "55f0bec4-6778-4465-85ea-c051134c4c1a",
   "metadata": {},
   "outputs": [],
   "source": [
    "import json\n",
    "def get_timeline_html():\n",
    "    with open('timeline_display.html','w') as file:\n",
    "        file.truncate()\n",
    "        with open('template_p1.txt') as p1:\n",
    "            file.write(p1.read())\n",
    "        with open('events.json','r') as p2:\n",
    "            events = json.load(p2)\n",
    "            file.write(json.dumps(events))\n",
    "        with open('template_p2.txt','r') as p3:\n",
    "            file.write(p3.read())\n",
    "\n",
    "    with open('timeline_display.html','r') as s:\n",
    "        html_string = s.read()\n",
    "    return html_string"
   ]
  },
  {
   "cell_type": "code",
   "execution_count": 20,
   "id": "16c392f9-cb40-4136-ab94-3d37f0d9bfde",
   "metadata": {},
   "outputs": [
    {
     "data": {
      "text/plain": [
       "'<!DOCTYPE html>\\n<html>\\n<head>\\n<meta name=\"viewport\" content=\"width=device-width, initial-scale=1.0\">\\n<style>\\n* {\\n  box-sizing: border-box;\\n}\\n\\nbody {\\n  background-color: #f5f6f8;\\n  font-family: Helvetica, sans-serif;\\n}\\n\\n.div1 {\\n        padding-top : 20px;\\n        padding-bottom: 20px;\\n    }\\n\\n/* The actual timeline (the vertical ruler) */\\n.timeline {\\n  position: relative;\\n  max-width: 1200px;\\n  margin: 0 auto;\\n}\\n\\n/* The actual timeline (the vertical ruler) */\\n.timeline::after {\\n  content: \\'\\';\\n  position: absolute;\\n  width: 6px;\\n  background-color: rgb(103, 100, 100);\\n  top: 0;\\n  bottom: 0;\\n  left: 50%;\\n  margin-left: -3px;\\n}\\n\\n/* Container around content */\\n.container {\\n  padding: 10px 40px;\\n  position: relative;\\n  background-color: inherit;\\n  width: 50%;\\n  /*border: 4px solid #0d0d0d;*/\\n}\\n\\n/* The circles on the timeline */\\n.container::after {\\n  content: \\'\\';\\n  position: absolute;\\n  width: 25px;\\n  height: 25px;\\n  right: -17px;\\n  background-color: white;\\n  border: 4px solid #FF9F55;\\n  top: 15px;\\n  border-radius: 50%;\\n  z-index: 1;\\n}\\n\\n/* Place the container to the left */\\n.left {\\n  left: 0;\\n}\\n\\n/* Place the container to the right */\\n.right {\\n  left: 50%;\\n}\\n\\n/* Add arrows to the left container (pointing right) */\\n.left::before {\\n  content: \" \";\\n  height: 0;\\n  position: absolute;\\n  top: 22px;\\n  width: 0;\\n  z-index: 1;\\n  right: 30px;\\n  border: medium solid rgb(17, 17, 17);\\n  border-width: 10px 0 10px 10px;\\n  border-color: transparent transparent transparent rgb(29, 29, 29);\\n}\\n\\n/* Add arrows to the right container (pointing left) */\\n.right::before {\\n  content: \" \";\\n  height: 0;\\n  position: absolute;\\n  top: 22px;\\n  width: 0;\\n  z-index: 1;\\n  left: 30px;\\n  border: medium solid rgb(31, 30, 30);\\n  border-width: 10px 10px 10px 0;\\n  border-color: transparent rgb(19, 19, 19) transparent transparent;\\n}\\n\\n/* Fix the circle for containers on the right side */\\n.right::after {\\n  left: -16px;\\n}\\n\\n/* The actual content */\\n.content {\\n  padding: 20px 30px;\\n  background-color: white;\\n  position: relative;\\n  border-radius: 6px;\\n  border: 2px solid #0d0d0d;\\n}\\n\\n/* Media queries - Responsive timeline on screens less than 600px wide */\\n@media screen and (max-width: 600px) {\\n  /* Place the timelime to the left */\\n  .timeline::after {\\n  left: 31px;\\n  }\\n  \\n  /* Full-width containers */\\n  .container {\\n  width: 100%;\\n  padding-left: 70px;\\n  padding-right: 25px;\\n  }\\n  \\n  /* Make sure that all arrows are pointing leftwards */\\n  .container::before {\\n  left: 60px;\\n  border: medium solid white;\\n  border-width: 10px 10px 10px 0;\\n  border-color: transparent white transparent transparent;\\n  }\\n\\n  /* Make sure all circles are at the same spot */\\n  .left::after, .right::after {\\n  left: 15px;\\n  }\\n  \\n  /* Make all right containers behave like the left ones */\\n  .right {\\n  left: 0%;\\n  }\\n}\\n</style>\\n<script src=\"https://cdnjs.cloudflare.com/ajax/libs/html2canvas/1.4.0/html2canvas.min.js\"></script>\\n</head>\\n<body>\\n    <div class=\"timeline\" id=\"timeline-container\"></div>\\n\\n    <script>\\n        {\\n            let events = [{\"date\": \"April 5, 1993\", \"event\": \"Nvidia was founded.\"}, {\"date\": \"1993\", \"event\": \"The three co-founders believed in the direction of accelerated computing.\"}, {\"date\": \"January 22, 1999\", \"event\": \"Nvidia went public.\"}, {\"date\": \"Late 1999\", \"event\": \"Nvidia released the GeForce 256 (NV10) with on-board transformation and lighting.\"}, {\"date\": \"Summer of 2000\", \"event\": \"The GeForce2 GTS was shipped.\"}, {\"date\": \"December 2000\", \"event\": \"Nvidia reached an agreement to acquire the intellectual assets of 3dfx.\"}, {\"date\": \"July 2002\", \"event\": \"Nvidia acquired Exluna.\"}, {\"date\": \"August 2003\", \"event\": \"Nvidia acquired MediaQ.\"}, {\"date\": \"April 22, 2004\", \"event\": \"Nvidia acquired iReady.\"}, {\"date\": \"December 14, 2005\", \"event\": \"Nvidia acquired ULI Electronics.\"}, {\"date\": \"March 2006\", \"event\": \"Nvidia acquired Hybrid Graphics.\"}, {\"date\": \"December 2006\", \"event\": \"Nvidia received subpoenas from the U.S. Department of Justice.\"}, {\"date\": \"2007\", \"event\": \"Nvidia was named Forbes Company of the Year.\"}, {\"date\": \"February 2008\", \"event\": \"Nvidia acquired Ageia.\"}, {\"date\": \"July 2008\", \"event\": \"Nvidia faced a class-action lawsuit over manufacturing defects.\"}, {\"date\": \"January 10, 2011\", \"event\": \"Nvidia signed a cross-licensing agreement with Intel.\"}, {\"date\": \"November 2011\", \"event\": \"Nvidia released its Tegra 3 ARM system-on-a-chip.\"}, {\"date\": \"May 2011\", \"event\": \"Nvidia agreed to acquire Icera.\"}, {\"date\": \"January 2013\", \"event\": \"Nvidia unveiled the Tegra 4 and the Nvidia Shield.\"}, {\"date\": \"July 29, 2013\", \"event\": \"Nvidia acquired PGI.\"}, {\"date\": \"May 6, 2016\", \"event\": \"Nvidia unveiled the first GPUs of the GeForce 10 series.\"}, {\"date\": \"July 2016\", \"event\": \"Nvidia settled a false advertising lawsuit regarding the GTX 970 model.\"}, {\"date\": \"May 2017\", \"event\": \"Nvidia announced a partnership with Toyota for autonomous vehicles.\"}, {\"date\": \"July 2017\", \"event\": \"Nvidia announced an AI partnership with Baidu.\"}, {\"date\": \"December 7, 2017\", \"event\": \"Nvidia released the Titan V.\"}, {\"date\": \"March 27, 2018\", \"event\": \"Nvidia released the Nvidia Quadro GV100.\"}, {\"date\": \"September 27, 2018\", \"event\": \"Nvidia released the RTX 2080 GPUs.\"}, {\"date\": \"May 2020\", \"event\": \"Nvidia developed an open-source ventilator for the global pandemic.\"}, {\"date\": \"May 14, 2020\", \"event\": \"Nvidia announced the Ampere GPU microarchitecture and the Nvidia A100 GPU accelerator.\"}, {\"date\": \"September 1, 2020\", \"event\": \"Nvidia announced the GeForce 30 series.\"}, {\"date\": \"September 13, 2020\", \"event\": \"Nvidia announced the acquisition of Arm from SoftBank Group.\"}, {\"date\": \"October 2020\", \"event\": \"Nvidia announced plans to build a powerful computer in Cambridge, England.\"}, {\"date\": \"October 2020\", \"event\": \"Nvidia retired the Quadro brand and shifted to Nvidia RTX.\"}, {\"date\": \"March 11, 2019\", \"event\": \"Nvidia announced the acquisition of Mellanox Technologies.\"}, {\"date\": \"May 2019\", \"event\": \"Nvidia announced new RTX Studio laptops.\"}, {\"date\": \"August 2019\", \"event\": \"Nvidia announced Minecraft RTX.\"}, {\"date\": \"September 2022\", \"event\": \"Nvidia announced its next-generation automotive-grade chip, Drive Thor.\"}, {\"date\": \"October 2022\", \"event\": \"Nvidia unveiled the A800 GPU in China to meet export control rules.\"}];\\n\\nconst timelineContainer = document.getElementById(\\'timeline-container\\');\\n                    var cnt = 0;\\n\\n                    events.forEach(event => {\\n\\n                        if (cnt%2 == 0)\\n                        {\\n                            const timelineItem = document.createElement(\\'div\\');\\n                            timelineItem.className = \\'container left\\';\\n\\n                            const content_text = document.createElement(\\'div\\');\\n                            content_text.className = \\'content\\';\\n\\n                            const date = document.createElement(\\'h2\\');\\n                            date.textContent = event.date;\\n                            const summary = document.createElement(\\'p\\');\\n                            summary.textContent = event.event;\\n\\n                            content_text.appendChild(date);\\n                            content_text.appendChild(summary);\\n\\n                            timelineItem.appendChild(content_text);\\n\\n                            timelineContainer.appendChild(timelineItem);\\n                        }\\n                        else\\n                        {\\n                            const timelineItem = document.createElement(\\'div\\');\\n                            timelineItem.className = \\'container right\\';\\n\\n                            const content_text = document.createElement(\\'div\\');\\n                            content_text.className = \\'content\\';\\n\\n                            const date = document.createElement(\\'h2\\');\\n                            date.textContent = event.date;\\n                            const summary = document.createElement(\\'p\\');\\n                            summary.textContent = event.event;\\n\\n                            content_text.appendChild(date);\\n                            content_text.appendChild(summary);\\n\\n                            timelineItem.appendChild(content_text);\\n\\n                            timelineContainer.appendChild(timelineItem);\\n                        }\\n                        cnt += 1\\n                    });\\n                \\n        };\\n    </script>\\n\\n\\n</body>\\n</html>\\n'"
      ]
     },
     "execution_count": 20,
     "metadata": {},
     "output_type": "execute_result"
    }
   ],
   "source": [
    "get_timeline_html()"
   ]
  },
  {
   "cell_type": "code",
   "execution_count": null,
   "id": "daf16508-7b58-405a-8995-8c1150d2dd40",
   "metadata": {},
   "outputs": [],
   "source": []
  }
 ],
 "metadata": {
  "kernelspec": {
   "display_name": "Python 3 (ipykernel)",
   "language": "python",
   "name": "python3"
  },
  "language_info": {
   "codemirror_mode": {
    "name": "ipython",
    "version": 3
   },
   "file_extension": ".py",
   "mimetype": "text/x-python",
   "name": "python",
   "nbconvert_exporter": "python",
   "pygments_lexer": "ipython3",
   "version": "3.9.16"
  }
 },
 "nbformat": 4,
 "nbformat_minor": 5
}
