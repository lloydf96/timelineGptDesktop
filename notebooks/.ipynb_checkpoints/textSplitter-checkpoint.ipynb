{
 "cells": [
  {
   "cell_type": "markdown",
   "id": "4afabd4e-bc7e-4b1e-a471-3d6616f2b543",
   "metadata": {},
   "source": [
    "# Read Text File"
   ]
  },
  {
   "cell_type": "code",
   "execution_count": 8,
   "id": "08ce5e51-5537-4b00-99e9-3c7c66c0d2ec",
   "metadata": {},
   "outputs": [],
   "source": [
    "with open('dummyText.txt') as f:\n",
    "    text = f.read()"
   ]
  },
  {
   "cell_type": "markdown",
   "id": "50dfda5e-7b95-42d9-9149-52d97e9c89e8",
   "metadata": {},
   "source": [
    "## Function for Text splitter"
   ]
  },
  {
   "cell_type": "code",
   "execution_count": 9,
   "id": "c1396a5b-ec03-4680-ab69-f18d0366fa65",
   "metadata": {},
   "outputs": [
    {
     "name": "stdout",
     "output_type": "stream",
     "text": [
      "page_content=\"Nvidia Corporation[note [note  (/É›nËˆvÉªdiÉ™/ en-VID-ee-É™) is an American multinational technology company incorporated in Delaware and based in Santa Clara, California. It is a software and fabless company which designs graphics processing units (GPUs), application programming interface (APIs) for data science and high-performance computing as well as system on a chip units (SoCs) for the mobile computing and automotive market. Nvidia is a dominant supplier of artificial intelligence hardware and software. Its professional line of GPUs are used in workstations for applications in such fields as architecture, engineering and construction, media and entertainment, automotive, scientific research, and manufacturing design. In addition to GPU manufacturing, Nvidia provides an API called CUDA that allows the creation of massively parallel programs which utilize GPUs. They are deployed in supercomputing sites around the world. More recently, it has moved into the mobile computing market, where it produces Tegra mobile processors for smartphones and tablets as well as vehicle navigation and entertainment systems. In addition to AMD, its competitors include Intel, Qualcomm and AI-accelerator companies such as Graphcore. It also makes AI-powered software for audio and video processing, e.g. Nvidia Maxine. Nvidia's GPUs are used for edge to cloud computing and supercomputers\" metadata={}\n",
      "page_content=\"It also makes AI-powered software for audio and video processing, e.g. Nvidia Maxine. Nvidia's GPUs are used for edge to cloud computing and supercomputers. Nvidia expanded its presence in the gaming industry with its handheld game consoles Shield Portable, Shield Tablet, and Shield TV and its cloud gaming service GeForce Now. Nvidia's offer to acquire Arm from SoftBank in September 2020 failed to materialize following extended regulatory scrutiny, leading to the termination of the deal in February 2022 in what would have been the largest semiconductor acquisition. Nvidia was founded on April 5, 1993, by Jensen Huang (CEO as of 2023[update]), a Taiwanese-American electrical engineer who was previously the director of CoreWare at LSI Logic and a microprocessor designer at AMD; Chris Malachowsky, an engineer who worked at Sun Microsystems; and Curtis Priem, who was previously a senior staff engineer and graphics chip designer at IBM and Sun Microsystems. The three men founded the company in a meeting at a Denny's roadside diner in East San Jose (just off Interstate 680 at the Berryessa Road interchange). In 1993, the three co-founders believed that the proper direction for the next wave of computing was accelerated computing such as graphics-based computing because it could solve problems that general-purpose computing could not\" metadata={}\n"
     ]
    }
   ],
   "source": [
    "from langchain.text_splitter import RecursiveCharacterTextSplitter\n",
    "import tiktoken\n",
    "### https://github.com/openai/openai-cookbook/blob/main/examples/How_to_count_tokens_with_tiktoken.ipynb\n",
    "\n",
    "ENCODING_NAME = \"gpt-3.5-turbo\"\n",
    "def num_tokens_from_string(string: str) -> int:\n",
    "    \"\"\"Returns the number of tokens in a text strin\"g.\"\"\"\n",
    "    encoding = tiktoken.encoding_for_model(ENCODING_NAME)\n",
    "    num_tokens = len(encoding.encode(string))\n",
    "    return num_tokens\n",
    "\n",
    "from langchain.text_splitter import CharacterTextSplitter\n",
    "text_splitter = CharacterTextSplitter(        \n",
    "    separator = \".\",\n",
    "    chunk_size = 300,\n",
    "    chunk_overlap  = 50,\n",
    "    length_function = num_tokens_from_string,\n",
    ")\n",
    "\n",
    "texts = text_splitter.create_documents([text])\n",
    "print(texts[0])\n",
    "print(texts[1])"
   ]
  },
  {
   "cell_type": "code",
   "execution_count": 10,
   "id": "e2d1c443-61dc-4246-8e76-081aaab72571",
   "metadata": {},
   "outputs": [],
   "source": [
    "## Basic validation for text splitter\n",
    "for x in text_splitter.split_text(text)[:20]:\n",
    "    assert num_tokens_from_string(x)<300, \"number of tokens more than 300\" "
   ]
  },
  {
   "cell_type": "markdown",
   "id": "81172fd5-2301-4509-b046-be8115bb4b93",
   "metadata": {},
   "source": [
    "## Get list of text\n"
   ]
  },
  {
   "cell_type": "code",
   "execution_count": 11,
   "id": "7b2b6ba4-d2c7-4c75-8bf3-6007457d96ae",
   "metadata": {},
   "outputs": [
    {
     "data": {
      "text/plain": [
       "[\"Nvidia Corporation[note [note  (/É›nËˆvÉªdiÉ™/ en-VID-ee-É™) is an American multinational technology company incorporated in Delaware and based in Santa Clara, California. It is a software and fabless company which designs graphics processing units (GPUs), application programming interface (APIs) for data science and high-performance computing as well as system on a chip units (SoCs) for the mobile computing and automotive market. Nvidia is a dominant supplier of artificial intelligence hardware and software. Its professional line of GPUs are used in workstations for applications in such fields as architecture, engineering and construction, media and entertainment, automotive, scientific research, and manufacturing design. In addition to GPU manufacturing, Nvidia provides an API called CUDA that allows the creation of massively parallel programs which utilize GPUs. They are deployed in supercomputing sites around the world. More recently, it has moved into the mobile computing market, where it produces Tegra mobile processors for smartphones and tablets as well as vehicle navigation and entertainment systems. In addition to AMD, its competitors include Intel, Qualcomm and AI-accelerator companies such as Graphcore. It also makes AI-powered software for audio and video processing, e.g. Nvidia Maxine. Nvidia's GPUs are used for edge to cloud computing and supercomputers\",\n",
       " \"It also makes AI-powered software for audio and video processing, e.g. Nvidia Maxine. Nvidia's GPUs are used for edge to cloud computing and supercomputers. Nvidia expanded its presence in the gaming industry with its handheld game consoles Shield Portable, Shield Tablet, and Shield TV and its cloud gaming service GeForce Now. Nvidia's offer to acquire Arm from SoftBank in September 2020 failed to materialize following extended regulatory scrutiny, leading to the termination of the deal in February 2022 in what would have been the largest semiconductor acquisition. Nvidia was founded on April 5, 1993, by Jensen Huang (CEO as of 2023[update]), a Taiwanese-American electrical engineer who was previously the director of CoreWare at LSI Logic and a microprocessor designer at AMD; Chris Malachowsky, an engineer who worked at Sun Microsystems; and Curtis Priem, who was previously a senior staff engineer and graphics chip designer at IBM and Sun Microsystems. The three men founded the company in a meeting at a Denny's roadside diner in East San Jose (just off Interstate 680 at the Berryessa Road interchange). In 1993, the three co-founders believed that the proper direction for the next wave of computing was accelerated computing such as graphics-based computing because it could solve problems that general-purpose computing could not\"]"
      ]
     },
     "execution_count": 11,
     "metadata": {},
     "output_type": "execute_result"
    }
   ],
   "source": [
    "text_splitter.split_text(text)[:2]"
   ]
  }
 ],
 "metadata": {
  "kernelspec": {
   "display_name": "Python 3 (ipykernel)",
   "language": "python",
   "name": "python3"
  },
  "language_info": {
   "codemirror_mode": {
    "name": "ipython",
    "version": 3
   },
   "file_extension": ".py",
   "mimetype": "text/x-python",
   "name": "python",
   "nbconvert_exporter": "python",
   "pygments_lexer": "ipython3",
   "version": "3.9.16"
  }
 },
 "nbformat": 4,
 "nbformat_minor": 5
}
